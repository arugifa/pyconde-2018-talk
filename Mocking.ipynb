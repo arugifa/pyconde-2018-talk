{
 "cells": [
  {
   "cell_type": "markdown",
   "metadata": {},
   "source": [
    "# Mocking Basics"
   ]
  },
  {
   "cell_type": "markdown",
   "metadata": {},
   "source": [
    "## I recently released a must-have library."
   ]
  },
  {
   "cell_type": "code",
   "execution_count": 1,
   "metadata": {},
   "outputs": [],
   "source": [
    "def say_hello():\n",
    "    return \"Hello\"\n",
    "\n",
    "\n",
    "def say_world():\n",
    "    return \"World\""
   ]
  },
  {
   "cell_type": "markdown",
   "metadata": {},
   "source": [
    "## And you wanted to give it a try."
   ]
  },
  {
   "cell_type": "code",
   "execution_count": 2,
   "metadata": {},
   "outputs": [],
   "source": [
    "def say_hello_world():\n",
    "    hello = say_hello()\n",
    "    world = say_world()\n",
    "    \n",
    "    return f\"{hello}, {world}!\""
   ]
  },
  {
   "cell_type": "markdown",
   "metadata": {},
   "source": [
    "## Of course, because you are a cool guy, you wrote some basic test."
   ]
  },
  {
   "cell_type": "code",
   "execution_count": 3,
   "metadata": {},
   "outputs": [
    {
     "name": "stdout",
     "output_type": "stream",
     "text": [
      "SUCCESS: Hello, World!\n"
     ]
    }
   ],
   "source": [
    "def test_say_hello_world():\n",
    "    result = say_hello_world()\n",
    "    assert result == \"Hello, World!\", f\"ERROR: {result}\"\n",
    "    print(f\"SUCCESS: {result}\")\n",
    "\n",
    "\n",
    "test_say_hello_world()"
   ]
  },
  {
   "cell_type": "markdown",
   "metadata": {},
   "source": [
    "## But, to impress your colleagues, you decided to use Mocks, to look even more cool!"
   ]
  },
  {
   "cell_type": "code",
   "execution_count": 4,
   "metadata": {},
   "outputs": [],
   "source": [
    "from contextlib import contextmanager\n",
    "import sys\n",
    "\n",
    "\n",
    "@contextmanager\n",
    "def mock(func_name, return_value):\n",
    "    \"\"\"Basic mock implementation.\n",
    "    \n",
    "    :param str func_name: Name of the fuction to mock.\n",
    "    :param return_value: Whatever value the mock should return.\n",
    "    \"\"\"\n",
    "    original_func = getattr(sys.modules[__name__], func_name)\n",
    "    \n",
    "    def wrapper(*args, **kwargs):\n",
    "        return return_value\n",
    "    \n",
    "    setattr(sys.modules[__name__], func_name, wrapper)\n",
    "    yield\n",
    "    setattr(sys.modules[__name__], func_name, original_func)"
   ]
  },
  {
   "cell_type": "code",
   "execution_count": 5,
   "metadata": {},
   "outputs": [
    {
     "name": "stdout",
     "output_type": "stream",
     "text": [
      "SUCCESS: Hello, World!\n"
     ]
    }
   ],
   "source": [
    "def test_say_hello_world_with_mocks():\n",
    "    with mock('say_hello', \"Hello\"), mock('say_world', \"World\"):\n",
    "        result = say_hello_world()\n",
    "        assert result == \"Hello, World!\", f\"ERROR: {result}\"\n",
    "    \n",
    "    print(f\"SUCCESS: {result}\")\n",
    "\n",
    "\n",
    "test_say_hello_world_with_mocks()"
   ]
  },
  {
   "cell_type": "markdown",
   "metadata": {},
   "source": [
    "## One day, I decided to improve and update my library..."
   ]
  },
  {
   "cell_type": "code",
   "execution_count": 6,
   "metadata": {},
   "outputs": [
    {
     "name": "stdout",
     "output_type": "stream",
     "text": [
      "Bonjour, World!\n"
     ]
    }
   ],
   "source": [
    "def say_hello(lang='fr'):\n",
    "    if lang == 'fr':\n",
    "        return \"Bonjour\"\n",
    "    \n",
    "    return \"Hello\"\n",
    "\n",
    "\n",
    "print(say_hello_world())"
   ]
  },
  {
   "cell_type": "markdown",
   "metadata": {},
   "source": [
    "## And your code started to crash in PRODUCTION. But your tests were still GREEN..."
   ]
  },
  {
   "cell_type": "code",
   "execution_count": 7,
   "metadata": {},
   "outputs": [
    {
     "name": "stdout",
     "output_type": "stream",
     "text": [
      "SUCCESS: Hello, World!\n"
     ]
    }
   ],
   "source": [
    "test_say_hello_world_with_mocks()"
   ]
  },
  {
   "cell_type": "markdown",
   "metadata": {},
   "source": [
    "## Just because you used Mocks..."
   ]
  },
  {
   "cell_type": "code",
   "execution_count": 8,
   "metadata": {},
   "outputs": [
    {
     "ename": "AssertionError",
     "evalue": "ERROR: Bonjour, World!",
     "output_type": "error",
     "traceback": [
      "\u001b[0;31m---------------------------------------------------------------------------\u001b[0m",
      "\u001b[0;31mAssertionError\u001b[0m                            Traceback (most recent call last)",
      "\u001b[0;32m<ipython-input-8-e15db41447d5>\u001b[0m in \u001b[0;36m<module>\u001b[0;34m\u001b[0m\n\u001b[0;32m----> 1\u001b[0;31m \u001b[0mtest_say_hello_world\u001b[0m\u001b[0;34m(\u001b[0m\u001b[0;34m)\u001b[0m\u001b[0;34m\u001b[0m\u001b[0m\n\u001b[0m",
      "\u001b[0;32m<ipython-input-3-7774409e8d72>\u001b[0m in \u001b[0;36mtest_say_hello_world\u001b[0;34m()\u001b[0m\n\u001b[1;32m      1\u001b[0m \u001b[0;32mdef\u001b[0m \u001b[0mtest_say_hello_world\u001b[0m\u001b[0;34m(\u001b[0m\u001b[0;34m)\u001b[0m\u001b[0;34m:\u001b[0m\u001b[0;34m\u001b[0m\u001b[0m\n\u001b[1;32m      2\u001b[0m     \u001b[0mresult\u001b[0m \u001b[0;34m=\u001b[0m \u001b[0msay_hello_world\u001b[0m\u001b[0;34m(\u001b[0m\u001b[0;34m)\u001b[0m\u001b[0;34m\u001b[0m\u001b[0m\n\u001b[0;32m----> 3\u001b[0;31m     \u001b[0;32massert\u001b[0m \u001b[0mresult\u001b[0m \u001b[0;34m==\u001b[0m \u001b[0;34m\"Hello, World!\"\u001b[0m\u001b[0;34m,\u001b[0m \u001b[0;34mf\"ERROR: {result}\"\u001b[0m\u001b[0;34m\u001b[0m\u001b[0m\n\u001b[0m\u001b[1;32m      4\u001b[0m     \u001b[0mprint\u001b[0m\u001b[0;34m(\u001b[0m\u001b[0;34mf\"SUCCESS: {result}\"\u001b[0m\u001b[0;34m)\u001b[0m\u001b[0;34m\u001b[0m\u001b[0m\n\u001b[1;32m      5\u001b[0m \u001b[0;34m\u001b[0m\u001b[0m\n",
      "\u001b[0;31mAssertionError\u001b[0m: ERROR: Bonjour, World!"
     ]
    }
   ],
   "source": [
    "test_say_hello_world()"
   ]
  }
 ],
 "metadata": {
  "kernelspec": {
   "display_name": "Python 3",
   "language": "python",
   "name": "python3"
  },
  "language_info": {
   "codemirror_mode": {
    "name": "ipython",
    "version": 3
   },
   "file_extension": ".py",
   "mimetype": "text/x-python",
   "name": "python",
   "nbconvert_exporter": "python",
   "pygments_lexer": "ipython3",
   "version": "3.7.0"
  }
 },
 "nbformat": 4,
 "nbformat_minor": 2
}
