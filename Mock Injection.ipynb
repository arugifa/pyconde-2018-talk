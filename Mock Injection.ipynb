{
 "cells": [
  {
   "cell_type": "markdown",
   "metadata": {},
   "source": [
    "# Inject Mocks as Dependencies"
   ]
  },
  {
   "cell_type": "markdown",
   "metadata": {},
   "source": [
    "## You wrote some code making HTTP requests over the Internet."
   ]
  },
  {
   "cell_type": "code",
   "execution_count": null,
   "metadata": {},
   "outputs": [],
   "source": [
    "import requests\n",
    "\n",
    "\n",
    "def do_crazy_stuff():\n",
    "    return requests.get('http://www.do-something.com/crazy/').text\n",
    "\n",
    "\n",
    "def do_awesome_stuff():\n",
    "    return requests.get('http://www.do-something.com/awesome/').text\n",
    "\n",
    "\n",
    "def do_random_stuff():\n",
    "    return requests.get('http://www.do-something.com/random/').text"
   ]
  },
  {
   "cell_type": "markdown",
   "metadata": {},
   "source": [
    "## You notice that you don't have access to the Internet in your tests.\n",
    "## So you decide to use Mocks."
   ]
  },
  {
   "cell_type": "code",
   "execution_count": null,
   "metadata": {},
   "outputs": [],
   "source": [
    "from unittest.mock import patch\n",
    "\n",
    "\n",
    "def test_do_crazy_stuff():\n",
    "    with patch('requests.get') as response_mock:\n",
    "        response_mock.text.return_value = 'crazy_stuff'\n",
    "        assert do_crazy_stuff() == 'crazy_stuff'\n",
    "\n",
    "\n",
    "def test_do_crazy_stuff():\n",
    "    with patch('requests.get') as response_mock:\n",
    "        response_mock.text.return_value = 'awesome_stuff'\n",
    "        assert do_awesome_stuff() == 'awesome_stuff'\n",
    "\n",
    "\n",
    "def test_do_random_stuff():\n",
    "    with patch('requests.get') as response_mock:\n",
    "        response_mock.text.return_value = 'random_stuff'\n",
    "        assert do_random_stuff() == 'random_stuff'"
   ]
  },
  {
   "cell_type": "markdown",
   "metadata": {},
   "source": [
    "## Later on, you discover the amazing Responses library, to mock the Requests library.\n",
    "## So you refactor your tests."
   ]
  },
  {
   "cell_type": "code",
   "execution_count": null,
   "metadata": {},
   "outputs": [],
   "source": [
    "import responses\n",
    "\n",
    "\n",
    "@responses.activate\n",
    "def test_do_crazy_stuff():\n",
    "    responses.add(responses.GET, 'http://www.do-something.com/crazy/', body='crazy_stuff')\n",
    "    assert do_crazy_stuff() == 'crazy_stuff'\n",
    "\n",
    "\n",
    "@responses.activate\n",
    "def test_do_awesome_stuff():\n",
    "    responses.add(responses.GET, 'http://www.do-something.com/awesome/', body='awesome_stuff')\n",
    "    assert do_awesome_stuff() == 'awesome_stuff'\n",
    "\n",
    "\n",
    "@responses.activate\n",
    "def test_do_random_stuff():\n",
    "    responses.add(responses.GET, 'http://www.do-something.com/random/', body='random_stuff')\n",
    "    assert do_random_stuff() == 'random_stuff'"
   ]
  },
  {
   "cell_type": "markdown",
   "metadata": {},
   "source": [
    "## But making synchronous requests is so 90's!\n",
    "## Now, cool guys use Async everywhere!!!\n",
    "## So you decide to use Grequests instead, to make async requests using Requests + Gevent."
   ]
  },
  {
   "cell_type": "code",
   "execution_count": null,
   "metadata": {},
   "outputs": [],
   "source": [
    "import grequests\n",
    "\n",
    "\n",
    "def do_crazy_stuff():\n",
    "    return grequests.get('http://www.do-something.com/crazy/').text\n",
    "\n",
    "\n",
    "def do_awesome_stuff():\n",
    "    return grequests.get('http://www.do-something.com/awesome/').text\n",
    "\n",
    "\n",
    "def do_random_stuff():\n",
    "    return grequests.get('http://www.do-something.com/random/').text"
   ]
  },
  {
   "cell_type": "markdown",
   "metadata": {},
   "source": [
    "## Incidentally, you have to rewrite again yours Mocks now..."
   ]
  },
  {
   "cell_type": "code",
   "execution_count": null,
   "metadata": {},
   "outputs": [],
   "source": [
    "from unittest.mock import patch\n",
    "\n",
    "\n",
    "def test_do_crazy_stuff():\n",
    "    with patch('grequests.get') as response_mock:\n",
    "        response_mock.text.return_value = 'crazy_stuff'\n",
    "        assert do_crazy_stuff() == 'crazy_stuff'\n",
    "\n",
    "\n",
    "def test_do_crazy_stuff():\n",
    "    with patch('grequests.get') as response_mock:\n",
    "        response_mock.text.return_value = 'awesome_stuff'\n",
    "        assert do_awesome_stuff() == 'awesome_stuff'\n",
    "\n",
    "\n",
    "def test_do_random_stuff():\n",
    "    with patch('grequests.get') as response_mock:\n",
    "        response_mock.text.return_value = 'random_stuff'\n",
    "        assert do_random_stuff() == 'random_stuff'"
   ]
  },
  {
   "cell_type": "markdown",
   "metadata": {},
   "source": [
    "## Instead, you could have injected your HTTP client as a dependency from the beginning."
   ]
  },
  {
   "cell_type": "code",
   "execution_count": null,
   "metadata": {},
   "outputs": [],
   "source": [
    "import requests\n",
    "\n",
    "\n",
    "def do_crazy_stuff(client=requests):\n",
    "    return client.get('http://www.do-something.com/crazy/').text\n",
    "\n",
    "\n",
    "def do_awesome_stuff(client=requests):\n",
    "    return client.get('http://www.do-something.com/awesome/').text\n",
    "\n",
    "\n",
    "def do_random_stuff(client=requests):\n",
    "    return client.get('http://www.do-something.com/random/').text"
   ]
  },
  {
   "cell_type": "markdown",
   "metadata": {},
   "source": [
    "## By writing your own Fake client (a Mock-like)."
   ]
  },
  {
   "cell_type": "code",
   "execution_count": null,
   "metadata": {},
   "outputs": [],
   "source": [
    "from collections import UserDict\n",
    "\n",
    "\n",
    "class FakeHTTPResponse:\n",
    "    \"\"\"Simulate :class:`requests.Response`.\n",
    "\n",
    "    :param dict data: response's body.\n",
    "    :param int status_code: response's status code.\n",
    "    \"\"\"\n",
    "\n",
    "    def __init__(self, data=None, status_code=200):\n",
    "        self.data = data or dict()\n",
    "        self.status_code = status_code\n",
    "\n",
    "    @property\n",
    "    def text(self):\n",
    "        \"\"\"Decode response's body.\"\"\"\n",
    "        return self.data\n",
    "\n",
    "\n",
    "class FakeHTTPClient(UserDict):\n",
    "    \"\"\"Simulate :mod:`request`'s high-level API.\"\"\"\n",
    "\n",
    "    def get(self, url):\n",
    "        \"\"\"Retrieve content from :data:`url`.\n",
    "\n",
    "        :rtype: FakeHTTPResponse\n",
    "        \"\"\"\n",
    "        for endpoint, response in self.data.items():\n",
    "            if url.endswith(endpoint):\n",
    "                return FakeHTTPResponse(response)\n",
    "\n",
    "        return FakeHTTPResponse(status_code=404)"
   ]
  },
  {
   "cell_type": "markdown",
   "metadata": {},
   "source": [
    "## And injecting your Fake, from your tests, into your code."
   ]
  },
  {
   "cell_type": "code",
   "execution_count": null,
   "metadata": {},
   "outputs": [],
   "source": [
    "client = FakeHTTPClient()\n",
    "\n",
    "def test_do_crazy_stuff():\n",
    "    client['http://www.do-something.com/crazy/'] = 'crazy_stuff'\n",
    "    assert do_crazy_stuff(client) == 'crazy_stuff'\n",
    "\n",
    "def test_do_awesome_stuff():\n",
    "    client['http://www.do-something.com/awesome/'] = 'awesome_stuff'\n",
    "    assert do_awesome_stuff(client) == 'awesome_stuff'\n",
    "\n",
    "def test_do_random_stuff():\n",
    "    client['http://www.do-something.com/random/'] = 'random_stuff'\n",
    "    assert do_random_stuff(client) == 'random_stuff'"
   ]
  },
  {
   "cell_type": "markdown",
   "metadata": {},
   "source": [
    "## This way, your test remains independant of your implementation.\n",
    "## You can, for example, switch back to Grequests."
   ]
  },
  {
   "cell_type": "code",
   "execution_count": null,
   "metadata": {},
   "outputs": [],
   "source": [
    "import grequests\n",
    "\n",
    "\n",
    "def do_crazy_stuff(client=grequests):\n",
    "    # Implementation does not change.\n",
    "\n",
    "\n",
    "def do_crazy_stuff(client=grequests):\n",
    "    # Implementation does not change.\n",
    "\n",
    "\n",
    "def do_crazy_stuff(client=grequests):\n",
    "    # Implementation does not change."
   ]
  },
  {
   "cell_type": "markdown",
   "metadata": {},
   "source": [
    "## Or Requests-Futures."
   ]
  },
  {
   "cell_type": "code",
   "execution_count": null,
   "metadata": {},
   "outputs": [],
   "source": [
    "import inspect\n",
    "\n",
    "from requests_futures.sessions import FuturesSession\n",
    "\n",
    "\n",
    "def do_crazy_stuff(client=FutureSession):\n",
    "    return _do_something('/crazy/', client)\n",
    "\n",
    "\n",
    "def do_awesome_stuff(client=FutureSession):\n",
    "    return _do_something('/awesome/', client)\n",
    "\n",
    "\n",
    "def do_random_stuff(client=FutureSession):\n",
    "    return _do_something('/random/', client)\n",
    "\n",
    "\n",
    "def _do_something(endpoint, client):\n",
    "    client = client() if inspect.isclass(client) else client\n",
    "    response = client.get(f'http://www.do-something.com{endpoint}')\n",
    "    return response.result().text"
   ]
  },
  {
   "cell_type": "markdown",
   "metadata": {},
   "source": [
    "## And only change your tests configuration (in one place), to reflect the changes."
   ]
  },
  {
   "cell_type": "code",
   "execution_count": null,
   "metadata": {},
   "outputs": [],
   "source": [
    "class FakeHTTPResponse:\n",
    "    # Previous implementation stays the same.\n",
    "    \n",
    "    def result(self):\n",
    "        \"\"\"Return the processed response.\"\"\"\n",
    "        return self"
   ]
  },
  {
   "cell_type": "markdown",
   "metadata": {},
   "source": [
    "## The tests themselves remain unchanged."
   ]
  }
 ],
 "metadata": {
  "kernelspec": {
   "display_name": "Python 3",
   "language": "python",
   "name": "python3"
  },
  "language_info": {
   "codemirror_mode": {
    "name": "ipython",
    "version": 3
   },
   "file_extension": ".py",
   "mimetype": "text/x-python",
   "name": "python",
   "nbconvert_exporter": "python",
   "pygments_lexer": "ipython3",
   "version": "3.7.0"
  }
 },
 "nbformat": 4,
 "nbformat_minor": 2
}
