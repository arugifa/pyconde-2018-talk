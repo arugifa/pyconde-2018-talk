{
 "cells": [
  {
   "cell_type": "markdown",
   "metadata": {},
   "source": [
    "# Fakes and Dependency Injection"
   ]
  },
  {
   "cell_type": "markdown",
   "metadata": {},
   "source": [
    "## I created a super cool library to manage your bank account."
   ]
  },
  {
   "cell_type": "code",
   "execution_count": 1,
   "metadata": {},
   "outputs": [],
   "source": [
    "class BankAccount:\n",
    "    def __init__(self, iban):\n",
    "        \"\"\"Connect to a bank account.\"\"\"\n",
    "\n",
    "    def withdraw_money(self, amount):\n",
    "        \"\"\"Return some ``amount`` of money.\"\"\"\n",
    "\n",
    "    def get_balance(self):\n",
    "        \"\"\"Return how much money you have on your bank account.\"\"\""
   ]
  },
  {
   "cell_type": "markdown",
   "metadata": {},
   "source": [
    "## And you decided to use it."
   ]
  },
  {
   "cell_type": "code",
   "execution_count": 2,
   "metadata": {},
   "outputs": [],
   "source": [
    "def buy_something(price):\n",
    "    bank = BankAccount('DE51-1234')\n",
    "    cash = bank.withdraw_money(price)\n",
    "\n",
    "    something = give_money(cash)\n",
    "    return something"
   ]
  },
  {
   "cell_type": "markdown",
   "metadata": {},
   "source": [
    "## To be sure your code works properly, you wrote a basic test."
   ]
  },
  {
   "cell_type": "code",
   "execution_count": 3,
   "metadata": {},
   "outputs": [],
   "source": [
    "def test_buy_something():\n",
    "    bank = BankAccount('DE51-1234')\n",
    "    balance = bank.get_balance()\n",
    "\n",
    "    buy_something(25)\n",
    "    assert bank.get_balance() == (balance - 25)"
   ]
  },
  {
   "cell_type": "markdown",
   "metadata": {},
   "source": [
    "## Unfortunately, every time you run the tests, money disappeared from your bank account.\n",
    "\n",
    "## That's why you decided to write a fake implementation of my cool library."
   ]
  },
  {
   "cell_type": "code",
   "execution_count": 4,
   "metadata": {},
   "outputs": [],
   "source": [
    "class FakeBankAccount:\n",
    "    def __init__(self, iban):\n",
    "        self.iban = iban\n",
    "        self.balance = 0\n",
    "        self.withdrawals = []\n",
    "\n",
    "    def withdraw_money(self, amount):\n",
    "        self.withdrawals.append(amount)\n",
    "\n",
    "    def get_balance(self):\n",
    "        return self.balance - sum(self.withdrawals)"
   ]
  },
  {
   "cell_type": "markdown",
   "metadata": {},
   "source": [
    "## Then, you refactored a bit your test, to be able to inject your new Fake into your code."
   ]
  },
  {
   "cell_type": "code",
   "execution_count": 5,
   "metadata": {},
   "outputs": [],
   "source": [
    "def test_buy_something():\n",
    "    bank = FakeBankAccount('DE51-1234')\n",
    "    balance = bank.get_balance()\n",
    "    \n",
    "    buy_something(25, using=bank)  # Inject \"bank\" into your code\n",
    "    assert bank.get_balance() == (balance - 25)"
   ]
  },
  {
   "cell_type": "code",
   "execution_count": 6,
   "metadata": {},
   "outputs": [],
   "source": [
    "def buy_something(price, using=None):\n",
    "    bank = using if using else BankAccount('DE51-1234')\n",
    "    cash = bank.withdraw_money(price)\n",
    "    something = give_money(cash)\n",
    "    return something"
   ]
  },
  {
   "cell_type": "markdown",
   "metadata": {},
   "source": [
    "## Finally, you wrote an interface test, to be sure that your (fake) implementation stays up-to-date with mine (the real one)."
   ]
  },
  {
   "cell_type": "code",
   "execution_count": 7,
   "metadata": {},
   "outputs": [],
   "source": [
    "class TestBankAccount:\n",
    "    def test_withdraw_money(self, bank):\n",
    "        balance = bank.get_balance()\n",
    "        bank.withdraw_money(100)\n",
    "        assert bank.get_balance() == (balance - 100)\n",
    "\n",
    "\n",
    "if __name__ == '__main__':\n",
    "    interface_tests = TestBankAccount()\n",
    "    \n",
    "    for bank in [FakeBankAccount('DE51-1234'), BankAccount('DE51-1234')]:\n",
    "        interface_tests.test_withdraw_money(bank)"
   ]
  }
 ],
 "metadata": {
  "kernelspec": {
   "display_name": "Python 3",
   "language": "python",
   "name": "python3"
  },
  "language_info": {
   "codemirror_mode": {
    "name": "ipython",
    "version": 3
   },
   "file_extension": ".py",
   "mimetype": "text/x-python",
   "name": "python",
   "nbconvert_exporter": "python",
   "pygments_lexer": "ipython3",
   "version": "3.7.0"
  }
 },
 "nbformat": 4,
 "nbformat_minor": 2
}
